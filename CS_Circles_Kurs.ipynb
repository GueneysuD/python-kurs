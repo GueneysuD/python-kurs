{
 "cells": [
  {
   "cell_type": "markdown",
   "metadata": {},
   "source": [
    "# Python-Kurs basierend auf CS Circles\n",
    "\n",
    "Dieses Notebook orientiert sich an den Levels von [CS Circles](https://cscircles.cemc.uwaterloo.ca/de/). Arbeite dich Schritt für Schritt durch die folgenden Levels, um die Grundlagen von Python kennenzulernen."
   ]
  },
  {
   "cell_type": "markdown",
   "metadata": {},
   "source": [
    "## Level 1: Einführung in Python\n",
    "\n",
    "In diesem Level lernst du, wie du einfache Python-Programme schreibst und ausführst."
   ]
  },
  {
   "cell_type": "code",
   "execution_count": null,
   "metadata": {},
   "outputs": [],
   "source": [
    "print('Hello, World!')\n",
    "print('Willkommen zum Python-Kurs!')"
   ]
  },
  {
   "cell_type": "markdown",
   "metadata": {},
   "source": [
    "## Level 2: Ausdrücke, Variablen und Datentypen\n",
    "\n",
    "Lerne, wie du Ausdrücke bildest, Variablen definierst und mit grundlegenden Datentypen arbeitest."
   ]
  },
  {
   "cell_type": "code",
   "execution_count": null,
   "metadata": {},
   "outputs": [],
   "source": [
    "# Zahlen\n",
    "a = 10\n",
    "b = 3.14\n",
    "print('a =', a, ', b =', b)\n",
    "\n",
    "# String\n",
    "name = 'Alice'\n",
    "print('Hallo,', name)\n",
    "\n",
    "# Boolean\n",
    "is_active = True\n",
    "print('is_active:', is_active)"
   ]
  },
  {
   "cell_type": "markdown",
   "metadata": {},
   "source": [
    "## Level 3: Bedingte Anweisungen\n",
    "\n",
    "Treffe Entscheidungen in deinem Code mit `if`, `elif` und `else`."
   ]
  },
  {
   "cell_type": "code",
   "execution_count": null,
   "metadata": {},
   "outputs": [],
   "source": [
    "zahl = 7\n",
    "if zahl % 2 == 0:\n",
    "    print(zahl, 'ist gerade')\n",
    "elif zahl % 3 == 0:\n",
    "    print(zahl, 'ist durch 3 teilbar')\n",
    "else:\n",
    "    print(zahl, 'ist ungerade und nicht durch 3 teilbar')"
   ]
  },
  {
   "cell_type": "markdown",
   "metadata": {},
   "source": [
    "## Level 4: Schleifen\n",
    "\n",
    "Automatisiere wiederholende Aufgaben mit Schleifen. Hier lernst du die `for`- und `while`-Schleifen kennen."
   ]
  },
  {
   "cell_type": "code",
   "execution_count": null,
   "metadata": {},
   "outputs": [],
   "source": [
    "# For-Schleife\n",
    "for i in range(5):\n",
    "    print('Iteration', i)\n",
    "\n",
    "# While-Schleife\n",
    "count = 0\n",
    "while count < 5:\n",
    "    print('Count:', count)\n",
    "    count += 1"
   ]
  },
  {
   "cell_type": "markdown",
   "metadata": {},
   "source": [
    "## Level 5: Funktionen\n",
    "\n",
    "Funktionen helfen dir, deinen Code zu strukturieren und wiederzuverwenden. Definiere eigene Funktionen und rufe sie mit unterschiedlichen Parametern auf."
   ]
  },
  {
   "cell_type": "code",
   "execution_count": null,
   "metadata": {},
   "outputs": [],
   "source": [
    "def begruessung(name):\n",
    "    \"\"\"Gibt eine Begrüßung zurück.\"\"\"\n",
    "    return f'Hallo, {name}!'\n",
    "\n",
    "print(begruessung('Alice'))\n",
    "print(begruessung('Bob'))"
   ]
  },
  {
   "cell_type": "markdown",
   "metadata": {},
   "source": [
    "## Level 6: Datenstrukturen (Listen, Tupel, Dictionaries)\n",
    "\n",
    "Organisiere deine Daten mit den grundlegenden Datenstrukturen in Python."
   ]
  },
  {
   "cell_type": "code",
   "execution_count": null,
   "metadata": {},
   "outputs": [],
   "source": [
    "# Liste\n",
    "fruits = ['Apfel', 'Banane', 'Kirsche']\n",
    "print('Liste:', fruits)\n",
    "\n",
    "# Tupel\n",
    "coordinates = (10, 20)\n",
    "print('Tupel:', coordinates)\n",
    "\n",
    "# Dictionary\n",
    "student = {'name': 'Alice', 'alter': 20}\n",
    "print('Dictionary:', student)"
   ]
  },
  {
   "cell_type": "markdown",
   "metadata": {},
   "source": [
    "## Level 7: Interaktive Visualisierung\n",
    "\n",
    "Erstelle eine interaktive Visualisierung einer Sinuskurve mithilfe von `ipywidgets` und `matplotlib`."
   ]
  },
  {
   "cell_type": "code",
   "execution_count": null,
   "metadata": {},
   "outputs": [],
   "source": [
    "import numpy as np\n",
    "import matplotlib.pyplot as plt\n",
    "import ipywidgets as widgets\n",
    "from ipywidgets import interact\n",
    "\n",
    "def plot_sine_wave(freq=1.0):\n",
    "    x = np.linspace(0, 2 * np.pi, 400)\n",
    "    y = np.sin(freq * x)\n",
    "    plt.figure(figsize=(8, 4))\n",
    "    plt.plot(x, y)\n",
    "    plt.title(f'Sinuswelle mit Frequenz {freq}')\n",
    "    plt.xlabel('x')\n",
    "    plt.ylabel('sin(x)')\n",
    "    plt.show()\n",
    "\n",
    "interact(plot_sine_wave, freq=widgets.FloatSlider(value=1.0, min=0.1, max=10.0, step=0.1));"
   ]
  },
  {
   "cell_type": "markdown",
   "metadata": {},
   "source": [
    "## Abschluss\n",
    "\n",
    "Herzlichen Glückwunsch! Du hast nun die grundlegenden Konzepte von Python durchlaufen – von der Einführung bis hin zu interaktiven Visualisierungen. Experimentiere weiter mit dem Code, um dein Verständnis zu vertiefen."
   ]
  }
 ],
 "metadata": {
  "kernelspec": {
   "display_name": "Python 3",
   "language": "python",
   "name": "python3"
  },
  "language_info": {
   "name": "python",
   "version": "3.x"
  }
 },
 "nbformat": 4,
 "nbformat_minor": 2
}
